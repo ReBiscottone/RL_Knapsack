{
 "cells": [
  {
   "cell_type": "markdown",
   "metadata": {},
   "source": [
    "Hi Theresia,\n",
    "\n",
    "in this script, I try to use RL to solve the knapsack problem.\n",
    "This should not be an exciting project but just a warm up (for me at least) to understand hands-on RL, RNN, embeddings and such.\n",
    "\n",
    "\n",
    "Still to implement:\n",
    "- mask to not choose 'wrong' objects\n",
    "- for now, it works only with batches of size one.\n",
    "\n",
    "As always, we start by importing useful libraries and defiening some boundary conditions"
   ]
  },
  {
   "cell_type": "code",
   "execution_count": 66,
   "metadata": {},
   "outputs": [],
   "source": [
    "import matplotlib.pyplot as plt\n",
    "\n",
    "import numpy as np \n",
    "import pandas as pd\n",
    "import torch \n",
    "import random\n",
    "import itertools    \n",
    "\n",
    "%matplotlib inline\n",
    "\n",
    "random.seed(1234)"
   ]
  },
  {
   "cell_type": "markdown",
   "metadata": {},
   "source": [
    "Then we define the object class"
   ]
  },
  {
   "cell_type": "code",
   "execution_count": 67,
   "metadata": {},
   "outputs": [],
   "source": [
    "class ObjectCass:\n",
    "    \n",
    "    Prize = None\n",
    "    Weight = None\n",
    "    \n",
    "    def __init__(self, reward, weight):\n",
    "        \n",
    "        self.Prize = reward\n",
    "        self.Weight = weight"
   ]
  },
  {
   "cell_type": "markdown",
   "metadata": {},
   "source": [
    "Now we define the function to generate new instances.\n",
    "This is a 'fake' instance generator because it generates always the same instance. This is done just to be able to see more easily if the algorithm is learning.\n",
    "Also, since RL are though to minimize something, the prices of the objects are negative.\n",
    "\n",
    "The instance generates num_objs objects. \n",
    "THe even ones have prize -1 and weight (2/num_objs)- epsilon (epsilon being a small numer), while the odd ones have price -0.1 and weight 0.51. The capacity is normalized so the best solution is to choose all and only the even objects (i.e. capacity = num_objects/2 * (2/num_objs)- epsilon < 1 and reward = -1 * num_objects/2 ). \n",
    "\n",
    "Finally, note that we add a fake object of weight and prize zero. This works as a 'final token'. When the algorithm sees this, it stops adding objects. The idea is that a good algorithm will add objects until the capacity is almost fully reached and then select this fake object to break the adding objects cycle."
   ]
  },
  {
   "cell_type": "code",
   "execution_count": 68,
   "metadata": {},
   "outputs": [],
   "source": [
    "def GenerateANewInstance(num_objs):\n",
    "    \n",
    "    # fake code to control the instance I fed it.\n",
    "    # best solution = [1,0,1,0,1,0,1,0,1,0,1]\n",
    "    \n",
    "    Objects = []\n",
    "    for i in range(num_objs):\n",
    "        if i%2==1:\n",
    "            prize = -0.1\n",
    "            weight = 0.51\n",
    "            obj = ObjectCass(prize,weight)\n",
    "            Objects.append(obj)\n",
    "        else:\n",
    "            prize = -1\n",
    "            weight = (2/num_objs)-0.001\n",
    "            obj = ObjectCass(prize,weight)\n",
    "            Objects.append(obj)\n",
    "    Objects.append(ObjectCass(0,0)) # fake object representing that you don't pick up anything\n",
    "    \n",
    "    return Objects\n",
    "    \n",
    "    # real code    \n",
    "    \n",
    "#    Objects = []\n",
    "#    for i in range(num_objs):\n",
    "#        prize = round(random.uniform(prize_min, prize_max), 0)\n",
    "#        weight = round(random.uniform(0.01, 1), 2)\n",
    "#        obj = ObjectCass(prize,weight)\n",
    "#        Objects.append(obj)\n",
    "#    Objects.append(ObjectCass(0,0)) # fake object representing that you don't pick up anything\n",
    "#                                   # i.e. you stop picking up stuff\n",
    "#    \n",
    "#    return Objects"
   ]
  },
  {
   "cell_type": "markdown",
   "metadata": {},
   "source": [
    "Very simple Actor Net. \n",
    "This is just a fully connected nueral network of depth 10.\n",
    "input dimension [num_objects]*num_obj_features + residual_capacity output dimensions [num_objects]\n",
    "\n",
    "note that we also pass to the algorithm the residual capacity so that it 'understands' when it should stop adding objects."
   ]
  },
  {
   "cell_type": "code",
   "execution_count": 112,
   "metadata": {},
   "outputs": [],
   "source": [
    "class ActorNet_10LayersFullyConnected(torch.nn.Module):\n",
    "    \n",
    "    def __init__(self, num_input_features, num_outputs, num_h):    \n",
    "        \n",
    "        super(ActorNet_10LayersFullyConnected, self).__init__()\n",
    "\n",
    "        dim_in = (num_input_features+1)*num_outputs\n",
    "        self.fc_0 = torch.nn.Linear(dim_in,  num_h)\n",
    "        self.fc_1 = torch.nn.Linear(num_h,  num_h)\n",
    "        self.fc_2 = torch.nn.Linear(num_h,  num_h)\n",
    "        self.fc_3 = torch.nn.Linear(num_h,  num_h)\n",
    "        self.fc_4 = torch.nn.Linear(num_h,  num_h)\n",
    "        self.fc_5 = torch.nn.Linear(num_h,  num_h)\n",
    "        self.fc_6 = torch.nn.Linear(num_h,  num_h)\n",
    "        self.fc_7 = torch.nn.Linear(num_h,  num_h)\n",
    "        self.fc_8 = torch.nn.Linear(num_h,  num_h)\n",
    "        self.fc_last = torch.nn.Linear(num_h,  num_outputs)\n",
    "\n",
    "        self.dropout = torch.nn.Dropout(p=0.2)\n",
    "\n",
    "        \n",
    "        # Xavier initialization\n",
    "        torch.nn.init.xavier_uniform_(self.fc_0.weight)\n",
    "        torch.nn.init.xavier_uniform_(self.fc_1.weight)\n",
    "        torch.nn.init.xavier_uniform_(self.fc_2.weight)\n",
    "        torch.nn.init.xavier_uniform_(self.fc_3.weight)\n",
    "        torch.nn.init.xavier_uniform_(self.fc_4.weight)\n",
    "        torch.nn.init.xavier_uniform_(self.fc_5.weight)\n",
    "        torch.nn.init.xavier_uniform_(self.fc_6.weight)\n",
    "        torch.nn.init.xavier_uniform_(self.fc_7.weight)\n",
    "        torch.nn.init.xavier_uniform_(self.fc_8.weight)\n",
    "        torch.nn.init.xavier_uniform_(self.fc_last.weight)\n",
    "\n",
    "    def forward(self, Input_features, residual_capacity):\n",
    "\n",
    "        # set the capacity as a tensor\n",
    "        residual_capacity = torch.tensor([residual_capacity]).float()\n",
    "        residual_capacity.requires_grad = False\n",
    "        # define relu operation\n",
    "        ReLU = torch.nn.ReLU()\n",
    "        # here we transfor the input from a 2x11 tensor to a 1x33 tensor\n",
    "        # which is 1x22 of input features and the residual capacity is repeted 11 times.\n",
    "        # so much info about the capacity might be redudndant but also adding it just once\n",
    "        # in the end is not working so I'm trying something new\n",
    "        Input_features_list = []\n",
    "        for el in Input_features:\n",
    "            # here we concatenate the residual capacity\n",
    "            aux = torch.cat([el, residual_capacity], dim = 0)\n",
    "            Input_features_list.append(aux)\n",
    "        x = torch.cat(Input_features_list, dim = 0)\n",
    "\n",
    "        # now our vector x is ready to be fed into the NN        \n",
    "        x = self.fc_0(x)\n",
    "        x = ReLU(x)\n",
    "        x = self.fc_1(x)\n",
    "        x = ReLU(x)\n",
    "        x = self.fc_2(x)\n",
    "        x = ReLU(x)\n",
    "        x = self.fc_3(x)\n",
    "        x = ReLU(x)\n",
    "        x = self.fc_4(x)\n",
    "        x = ReLU(x)\n",
    "        # dropout\n",
    "        x = self.dropout(x)\n",
    "        # end dropout\n",
    "        x = self.fc_5(x)\n",
    "        x = ReLU(x)\n",
    "        x = self.fc_6(x)\n",
    "        x = ReLU(x)\n",
    "        x = self.fc_7(x)\n",
    "        x = ReLU(x)\n",
    "        x = self.fc_8(x)\n",
    "        x = ReLU(x)\n",
    "        x = self.fc_last(x)         \n",
    "        # computing softmax to obtain probabilities\n",
    "        x = torch.nn.functional.softmax(x, dim = 0)\n",
    "\n",
    "        return x"
   ]
  },
  {
   "cell_type": "markdown",
   "metadata": {},
   "source": [
    "Now we just test if the NN works by feeding it a tensor."
   ]
  },
  {
   "cell_type": "code",
   "execution_count": 113,
   "metadata": {},
   "outputs": [
    {
     "name": "stdout",
     "output_type": "stream",
     "text": [
      "number of parameters:  137867\n",
      "\n",
      "\n",
      "output\n",
      "tensor([0.0764, 0.1005, 0.1226, 0.1254, 0.1844, 0.0512, 0.0727, 0.0725, 0.0339,\n",
      "        0.0884, 0.0721], grad_fn=<SoftmaxBackward>)\n"
     ]
    }
   ],
   "source": [
    "num_input_features = 2 # number of features of an Object\n",
    "tensors = torch.tensor([[1.1, -1.0],[2.0, 15.0],[1.0, -1.0],[20.0, 12.0],[1.0, -1.0],[2.0, 15.0],[1.0, -1.0],[20.0, 12.0],[1.0, -1.0],[2.0, 15.0],[1.0, -1.0]]).float()\n",
    "\n",
    "Net_Actor = ActorNet_10LayersFullyConnected(num_input_features, len(tensors), 128)\n",
    "print('number of parameters: ', sum(p.numel() for p in Net_Actor.parameters() if p.requires_grad))\n",
    "output = Net_Actor(tensors,0)\n",
    "print('\\n\\noutput')\n",
    "print(output)"
   ]
  },
  {
   "cell_type": "markdown",
   "metadata": {
    "collapsed": true
   },
   "source": [
    "In theory here we should define the critic network. Since we are just testing if everything works we don't need a critic network. In fact, since we are using a 'fake' instance, we already know that the best reward for one choice is -1 and for a whole sequence is -num_objects/2.\n",
    "\n",
    "So we move directly to the RL framework.\n",
    "\n",
    "In this first step, we test if the algorithm can learn in a one-move scenario. i.e. it has to choose only one object.\n",
    "Hence, we create our fake instance and test if the algorithm can learn to choose one of the fruitful objects."
   ]
  },
  {
   "cell_type": "code",
   "execution_count": 114,
   "metadata": {},
   "outputs": [
    {
     "name": "stdout",
     "output_type": "stream",
     "text": [
      "Last 5 outputs  [tensor([1.0000e+00, 0.0000e+00, 1.5291e-10, 1.4013e-45, 0.0000e+00],\n",
      "       grad_fn=<SoftmaxBackward>), tensor([1.0000e+00, 0.0000e+00, 5.3925e-11, 0.0000e+00, 0.0000e+00],\n",
      "       grad_fn=<SoftmaxBackward>), tensor([1.0000e+00, 0.0000e+00, 4.1907e-10, 4.7644e-44, 0.0000e+00],\n",
      "       grad_fn=<SoftmaxBackward>), tensor([1.0000e+00, 0.0000e+00, 2.4119e-11, 0.0000e+00, 0.0000e+00],\n",
      "       grad_fn=<SoftmaxBackward>)]\n",
      "with the fake instance you're testing, \n",
      "Best reward = -1 \n"
     ]
    },
    {
     "data": {
      "text/plain": [
       "<matplotlib.legend.Legend at 0x7ff05a554320>"
      ]
     },
     "execution_count": 114,
     "metadata": {},
     "output_type": "execute_result"
    },
    {
     "data": {
      "image/png": "[encoded data removed]",
      "text/plain": [
       "<Figure size 432x288 with 1 Axes>"
      ]
     },
     "metadata": {
      "needs_background": "light"
     },
     "output_type": "display_data"
    },
    {
     "data": {
      "image/png": "[encoded data removed]",
      "text/plain": [
       "<Figure size 432x288 with 1 Axes>"
      ]
     },
     "metadata": {
      "needs_background": "light"
     },
     "output_type": "display_data"
    },
    {
     "data": {
      "image/png": "[encoded data removed]",
      "text/plain": [
       "<Figure size 432x288 with 1 Axes>"
      ]
     },
     "metadata": {
      "needs_background": "light"
     },
     "output_type": "display_data"
    }
   ],
   "source": [
    "num_objs = 4\n",
    "num_h = 128\n",
    "Net_Actor = ActorNet_10LayersFullyConnected(num_input_features, num_objs+1,num_h)\n",
    "# define for how many different instances it should run, their size and the number of epochs\n",
    "num_epoch = 500\n",
    "# create your optimizers\n",
    "optimizer_actor = torch.optim.Adam(Net_Actor.parameters(), lr=0.001)\n",
    "Rewards = []\n",
    "Loss_actor = []\n",
    "Loss_critic = []\n",
    "# fake instance\n",
    "Objects = GenerateANewInstance(num_objs)\n",
    "ObjectsFeatures = torch.tensor([[obj.Prize, obj.Weight] for obj in Objects])\n",
    "ObjectsFeatures.requires_grad = False\n",
    "Outputs = []\n",
    "# set to trin the actor\n",
    "Net_Actor.train()\n",
    "\n",
    "for e_counter in range(num_epoch):\n",
    "    optimizer_actor.zero_grad()   # zero the gradient buffers\n",
    "    total_reward = 0.0\n",
    "    total_weight = 0.0\n",
    "    sequence_probability = 1\n",
    "    Chosen = []\n",
    "    while True:\n",
    "        output = Net_Actor(ObjectsFeatures, total_weight)\n",
    "        Outputs.append(output)\n",
    "        action_index = np.random.choice(range(num_objs+1),p=output.detach().numpy())\n",
    "        sequence_probability = output[action_index]\n",
    "        total_weight+=Objects[action_index].Weight\n",
    "        total_reward+=Objects[action_index].Prize\n",
    "        Chosen.append(Objects[action_index])\n",
    "        break\n",
    "    target_actor = torch.tensor([-1])\n",
    "    target_actor.requires_grad = False\n",
    "    loss_actor = (torch.tensor(total_reward) - target_actor)*torch.digamma(sequence_probability)\n",
    "    loss_actor = loss_actor.mean()\n",
    "    # compute gradient \n",
    "    loss_actor.backward()\n",
    "    # gradient clipping\n",
    "    clip_value = 1\n",
    "    for p in Net_Actor.parameters():\n",
    "        p.register_hook(lambda grad: torch.clamp(grad, -clip_value, clip_value))\n",
    "    # apply gradient\n",
    "    optimizer_actor.step()\n",
    "    # info for plotting\n",
    "    Rewards.append(total_reward)     \n",
    "    Loss_actor.append(loss_actor.tolist())\n",
    "    \n",
    "print('Last 5 outputs ',Outputs[-5:-1])\n",
    "R = []\n",
    "A = []\n",
    "for i in range(len(Rewards)):\n",
    "    R.append(Rewards[i])\n",
    "    A.append(Loss_actor[i])\n",
    "print('with the fake instance you\\'re testing, ')\n",
    "print('Best reward = -1 ')\n",
    "plt.figure()\n",
    "plt.plot(R)\n",
    "plt.ylabel('Rewards')\n",
    "plt.figure()\n",
    "plt.plot(A)\n",
    "plt.ylabel('Actor loss')\n",
    "plt.figure()\n",
    "for i in range(len(Outputs[0])):\n",
    "    ObjectOutput = [o[i] for o in Outputs]\n",
    "    plt.plot(ObjectOutput, label='act_'+str(i))\n",
    "plt.ylabel('Probabilities')\n",
    "plt.legend()"
   ]
  },
  {
   "cell_type": "markdown",
   "metadata": {
    "collapsed": true
   },
   "source": [
    "As we can see, it learns to choose any of the fruitful actions (depending on the randomness) within 50 iterations (more or less). The next step is to see if it understands how to select a sequence instead of a single action. \n",
    "\n",
    "Next. remember what it says here for the REINFORCE (https://pytorch.org/docs/stable/distributions.html)"
   ]
  },
  {
   "cell_type": "code",
   "execution_count": 126,
   "metadata": {},
   "outputs": [],
   "source": [
    "def Learning_step(optimizer, reward, log_probability, Net, target):\n",
    "    \n",
    "    optimizer.zero_grad()   # zero the gradient buffers\n",
    "    # compute gradient \n",
    "    loss = (reward - taget)*log_probability\n",
    "    loss.backward()\n",
    "    # gradient clipping\n",
    "    clip_value = 5\n",
    "    for p in Net.parameters():\n",
    "        p.register_hook(lambda grad: torch.clamp(grad, -clip_value, clip_value))\n",
    "    # apply gradient\n",
    "    optimizer.step()\n",
    "\n",
    "    return loss.tolist()"
   ]
  },
  {
   "cell_type": "code",
   "execution_count": 127,
   "metadata": {},
   "outputs": [],
   "source": [
    "def Plot_For_Clearity(Total_Rewards,Losses, Probabilities):\n",
    "    \n",
    "    print('Last 5 probabilities distribution ',Probabilities[-5:-1])\n",
    "    print('last sequence of object chosen: ', Chosen)\n",
    "    R = []\n",
    "    A = []\n",
    "    for i in range(len(Total_Rewards)):\n",
    "        R.append(Total_Rewards[i])\n",
    "        A.append(Losses[i])\n",
    "    print('with the fake instance you\\'re testing, ')\n",
    "    print('Best reward =, ', -num_objs/2)\n",
    "    plt.figure()\n",
    "    plt.plot(R)\n",
    "    plt.ylabel('Total_Rewards')\n",
    "    plt.figure()\n",
    "    plt.plot(A)\n",
    "    plt.ylabel('Actor loss')\n",
    "    plt.figure()\n",
    "    for i in range(len(Probabilities[0])):\n",
    "        ObjectOutput = [o[i] for o in Probabilities]\n",
    "        plt.plot(ObjectOutput, label='act_'+str(i))\n",
    "    plt.ylabel('Probabilities')\n",
    "    plt.legend()"
   ]
  },
  {
   "cell_type": "code",
   "execution_count": 128,
   "metadata": {},
   "outputs": [
    {
     "name": "stdout",
     "output_type": "stream",
     "text": [
      "epoch number:  0\n",
      "epoch number:  100\n",
      "epoch number:  200\n",
      "epoch number:  300\n",
      "epoch number:  400\n",
      "Last 5 probabilities distribution  [tensor([1.3511e-09, 8.7655e-12, 1.0000e+00], grad_fn=<SoftmaxBackward>), tensor([7.0339e-09, 7.0480e-11, 1.0000e+00], grad_fn=<SoftmaxBackward>), tensor([1.8694e-10, 8.9348e-13, 1.0000e+00], grad_fn=<SoftmaxBackward>), tensor([4.0394e-10, 2.5704e-12, 1.0000e+00], grad_fn=<SoftmaxBackward>)]\n",
      "last sequence of object chosen:  [tensor(2)]\n",
      "with the fake instance you're testing, \n",
      "Best reward =,  -1.0\n"
     ]
    },
    {
     "data": {
      "image/png": "[encoded data removed]",
      "text/plain": [
       "<Figure size 432x288 with 1 Axes>"
      ]
     },
     "metadata": {
      "needs_background": "light"
     },
     "output_type": "display_data"
    },
    {
     "data": {
      "image/png": "[encoded data removed]",
      "text/plain": [
       "<Figure size 432x288 with 1 Axes>"
      ]
     },
     "metadata": {
      "needs_background": "light"
     },
     "output_type": "display_data"
    },
    {
     "data": {
      "image/png": "[encoded data removed]",
      "text/plain": [
       "<Figure size 432x288 with 1 Axes>"
      ]
     },
     "metadata": {
      "needs_background": "light"
     },
     "output_type": "display_data"
    }
   ],
   "source": [
    "# fake instance\n",
    "num_objs = 2\n",
    "Objects = GenerateANewInstance(num_objs)\n",
    "ObjectsFeatures = torch.tensor([[obj.Prize, obj.Weight] for obj in Objects])\n",
    "ObjectsFeatures.requires_grad = False\n",
    "# actor network\n",
    "Net_Actor = ActorNet_10LayersFullyConnected(num_input_features, num_objs+1,num_h)\n",
    "# define the number of epochs\n",
    "num_epoch = 500\n",
    "# create your optimizers\n",
    "optimizer_actor = torch.optim.Adam(Net_Actor.parameters(), lr=0.001)\n",
    "# arrays to plot afterwards\n",
    "Total_Rewards = []\n",
    "Losses = []\n",
    "Loss_critic = []\n",
    "Probabilities = []\n",
    "# set to trin the actor\n",
    "Net_Actor.train()\n",
    "taget = torch.tensor([num_objs/2])\n",
    "\n",
    "for e_counter in range(num_epoch):\n",
    "    if e_counter%100==0:\n",
    "        print('epoch number: ',e_counter)\n",
    "\n",
    "    total_weight = 0.0\n",
    "    total_reward = 0.0\n",
    "    sequence_probability = []\n",
    "    Chosen = []\n",
    "    \n",
    "    while True:\n",
    "\n",
    "        probabilities = Net_Actor(ObjectsFeatures, total_weight)\n",
    "        Probabilities.append(probabilities)\n",
    "        m = torch.distributions.Categorical(probabilities)\n",
    "        action_index = m.sample()\n",
    "        total_weight+=Objects[action_index].Weight\n",
    "        total_reward+=Objects[action_index].Prize\n",
    "        Chosen.append(action_index)\n",
    "        if total_weight > 1:\n",
    "            Rewards.append(num_objs)\n",
    "            total_reward = num_objs\n",
    "            l = Learning_step(optimizer_actor, num_objs, m.log_prob(action_index), Net_Actor, taget)\n",
    "            Losses.append(l)\n",
    "            break\n",
    "        if Objects[action_index].Prize == 0 and Objects[action_index].Weight == 0: # the last fake object = stop\n",
    "            l=Learning_step(optimizer_actor, total_reward, m.log_prob(action_index), Net_Actor, taget)\n",
    "            Losses.append(l)\n",
    "            break\n",
    "        l=Learning_step(optimizer_actor, Objects[action_index].Prize, m.log_prob(action_index), Net_Actor, taget)\n",
    "        Losses.append(l)\n",
    "\n",
    "    Total_Rewards.append(total_reward)     \n",
    "    \n",
    "Plot_For_Clearity(Total_Rewards,Losses, Probabilities)    "
   ]
  },
  {
   "cell_type": "markdown",
   "metadata": {
    "collapsed": true
   },
   "source": [
    "As you can see from the graphs, here the algorithm does not really learn anything. And it does not even seem as it is going towards some stable solution! you can increase the number of epochs (num_epoch) but the result is more or less the same.\n",
    "\n",
    "A weird thing that can happen (depending on the randomness) is that it selects an action and put its probability to 100%. doing so the log derivative becames quite flat and it stays in this local minima. (Now this does not happen anymore due to the dropout layer)\n",
    "\n",
    "I can't really understand why it doesn't work. 10 layers should be enough to understand to pick something with weight less then remaining_capacity. The RL structure should be ok, since it worked on the previous case.\n",
    "So, I don't get why it is not working.\n",
    "\n",
    "The only thing that can cause problems (I think) it's how we compute the sequence_probability. In the RL formula, sequence_probability = P(Y_n|X_0) which is the probability of sequence Y_n given initial state X_0. I compute this as the product of the probabilities of chosing action a_t at time t. Hence:\n",
    "\n",
    "sequence_probability = P(Y_n|X_0) = p(action_0|X_0)\\*p(action_1|X_1)\\*..p(action_n|X_n).\n",
    "\n",
    "This seems reasonable to me, but it does not work. (I think this might be the problem because it's the only thing we changed with respect to the previous case.)\n",
    "\n",
    "Do you have any other ideas on why it does not work, Theresia? If so, I would really like to hear them!\n",
    "P.S. sorry if my code is messy :)"
   ]
  },
  {
   "cell_type": "code",
   "execution_count": null,
   "metadata": {},
   "outputs": [],
   "source": []
  },
  {
   "cell_type": "code",
   "execution_count": null,
   "metadata": {
    "collapsed": true
   },
   "outputs": [],
   "source": []
  },
  {
   "cell_type": "code",
   "execution_count": null,
   "metadata": {
    "collapsed": true
   },
   "outputs": [],
   "source": []
  },
  {
   "cell_type": "markdown",
   "metadata": {
    "collapsed": true
   },
   "source": [
    "Hi Theresia, from here on are just more complicated actor sructures. Please do not look at them because they are wrong"
   ]
  },
  {
   "cell_type": "markdown",
   "metadata": {},
   "source": [
    "here is the code of the Actor with RNN and attention"
   ]
  },
  {
   "cell_type": "code",
   "execution_count": null,
   "metadata": {
    "collapsed": true
   },
   "outputs": [],
   "source": [
    "print('please don\\'t run this because it is wrong')\n",
    "error_to_stop_execution\n",
    "\n",
    "class ActorNet_with_Attention(torch.nn.Module):\n",
    "    \n",
    "    def __init__(self, num_input_features, dim_kernel, num_embeddings, num_h, dim_W_a, dim_W_c, len_sequences):\n",
    "        \n",
    "        super(ActorNet, self).__init__() # this is not really clear to me\n",
    "                                            # input channels 11, output channels 11, \n",
    "        self.cnn_embedding = torch.nn.Conv1d(len_sequences, len_sequences, dim_kernel, padding = int((num_embeddings-num_input_features)/2),padding_mode = 'replicate') # in channel, out channel, kernel size\n",
    "        #self.cnn_embedding = torch.nn.Conv1d(len_sequences, len_sequences, dim_kernel, padding = 2, padding_mode = 'reflect') # in channel, out channel, kernel size\n",
    "        #self.cnn_embedding = torch.nn.Conv1d(len_sequences, len_sequences, dim_kernel, padding = (num_embeddings-num_input_features)/2, padding_mode = 'reflect') # in channel, out channel, kernel size\n",
    "        print('still to decide the kernel size')\n",
    "        print('and how do you set the number of filters to D?')\n",
    "        print('so far I set the number of groups to num_input_features')\n",
    "        print('doing so, each input featur has its own set of filters (see documentation)')\n",
    "        self.lstm= torch.nn.LSTM(num_embeddings,  num_h)        \n",
    "        self.last_item_embedding = torch.nn.Linear(num_input_features+1,  num_embeddings)\n",
    "        # the plus one up here is the remaining capacity\n",
    "        print('also, so far you feed to the LSTM both the static and dinamic info.')\n",
    "        print('and to match the dimension, you pass this info into a fully connected layer')\n",
    "        print('you will have to change it, so to feed only the static part')\n",
    "        self.W_a = torch.tensor(torch.rand(dim_W_a,num_embeddings + num_h), requires_grad=True)\n",
    "        self.v_a = torch.tensor(torch.rand(dim_W_a), requires_grad=True)\n",
    "        self.v_a = self.v_a[None, :] # I don't know why you have to add a dimension here\n",
    "        self.W_c = torch.tensor(torch.rand(dim_W_c, len_sequences + num_embeddings), requires_grad=True)\n",
    "        self.v_c = torch.tensor(torch.rand(dim_W_c), requires_grad=True)\n",
    "        self.v_c = self.v_c[None, :] # I don't know why you have to add a dimension here\n",
    "        # last item defines the last item you selected. \n",
    "        # it is initialized as an empty item.\n",
    "        \n",
    "        # here I set the first internal state of the RNN.\n",
    "        # I set it here and not in forwards otherwise it start with different h_0\n",
    "        # For now it's zero-initialied, but maybe there is something smarter \n",
    "        # that can be done.\n",
    "        \n",
    "        self.num_layers = 1\n",
    "        self.num_directions = 1\n",
    "        self.num_h = num_h\n",
    "        self.h_0 = torch.zeros( self.num_layers * self.num_directions, 1, self.num_h ) \n",
    "        self.c_0 = torch.zeros( self.num_layers * self.num_directions, 1, self.num_h )\n",
    "        \n",
    "        print('Xavier Initialization still to do')\n",
    "        #print('first')\n",
    "        #print(list(self.W_a))\n",
    "        #torch.nn.init.xavier_uniform(self.W_a)\n",
    "        #print('after')\n",
    "        #print(list(self.W_a))\n",
    "        #stop\n",
    "        \n",
    "    def forward(self, x, last_item):\n",
    "\n",
    "        ReLU = torch.nn.ReLU()\n",
    "        # compuitng h_t\n",
    "        last_item = self.last_item_embedding(last_item)\n",
    "        last_item = ReLU(last_item)\n",
    "        last_item = last_item[None, None, :] # add fake batch dimension and fake Length dimension\n",
    "        # here it is not clear to me why the batch size has to be one?\n",
    "        # Maybe because here you pass one info at a time??\n",
    "        h_t, cell_t = self.lstm( last_item, (self.h_0,self.c_0) )  # if you do not provide the initial cell and state, they are by default zero.\n",
    "        h_t = torch.squeeze(h_t, dim = 0)    # removing the dimension seq_len since it is 1\n",
    "        h_t = torch.squeeze(h_t, dim = 0)    # removing the dimension batch   since it is 1\n",
    "        # computing x_bar\n",
    "        x = x[None,:, :] # I don't know why you have to add a dimension here\n",
    "        x_bar = self.cnn_embedding(x)\n",
    "        x_bar = torch.squeeze(x_bar, dim = 0)    # removing the batch dimension since I'm working withou batches\n",
    "        # concatenation of two tensors\n",
    "        Concatenations = []\n",
    "        for x_bar_i in x_bar:\n",
    "            Concatenations.append(torch.cat((x_bar_i, h_t), 0))\n",
    "        concatenation_1 = torch.stack(Concatenations, dim = 0)\n",
    "        concatenation_1 = concatenation_1.t()\n",
    "        # computing u_t\n",
    "        u_t = torch.mm(self.v_a,torch.tanh(torch.mm(self.W_a, concatenation_1))).t()  \n",
    "        # computing a_t\n",
    "        a_t = torch.nn.functional.softmax(u_t, dim = 0)        \n",
    "        # computing the context vector c_t\n",
    "        C_t_array = []\n",
    "        index = 0\n",
    "        for row in x_bar:\n",
    "            C_t_array.append(torch.mul(row, a_t[index]))\n",
    "            index+=1  \n",
    "        c_t = torch.stack(C_t_array,dim=0)\n",
    "        c_t = torch.sum(c_t, dim=1)        \n",
    "        # concatenation of two tensors\n",
    "        Concatenations_2 = []\n",
    "        for x_bar_i in x_bar:\n",
    "            Concatenations_2.append(torch.cat((x_bar_i, c_t), 0))\n",
    "        concatenation_2 = torch.stack(Concatenations_2, dim = 0)\n",
    "        concatenation_2 = concatenation_2.t()        \n",
    "        # computing u_t_tilde\n",
    "        u_t_tilde = torch.mm(self.v_c,torch.tanh(torch.mm(self.W_c, concatenation_2)))\n",
    "        u_t_tilde = torch.squeeze(u_t_tilde, dim = 0)\n",
    "        # computing actual output\n",
    "        x = torch.nn.functional.softmax(u_t_tilde)\n",
    "        \n",
    "        return x, x_bar"
   ]
  },
  {
   "cell_type": "code",
   "execution_count": null,
   "metadata": {
    "collapsed": true
   },
   "outputs": [],
   "source": [
    "#create an instance\n",
    "num_objects = 10\n",
    "Objects = GenerateANewInstance(num_objects)\n",
    "for obj in Objects:\n",
    "    if obj.Prize == 0 and obj.Weight == 0:\n",
    "        last_item = obj\n",
    "\n",
    "num_input_features = 2 # number of features of an Object\n",
    "num_embeddings = 32   # number of features for the embedding\n",
    "num_h = 32             # number of features for the hidden size of the rnn\n",
    "dim_W_a = 32           # free dimension of matrix W_a\n",
    "dim_W_c = 32           # free dimension of matrix W_c\n",
    "dim_kernel = 1         # kernel dimension\n",
    "tensors = torch.tensor([[1.1, -1.0],[2.0, 15.0],[1.0, -1.0],[20.0, 12.0],[1.0, -1.0],[2.0, 15.0],[1.0, -1.0],[20.0, 12.0],[1.0, -1.0],[2.0, 15.0],[1.0, -1.0]]).float()\n",
    "\n",
    "Net_Actor = ActorNet(num_input_features, dim_kernel, num_embeddings, num_h, dim_W_a, dim_W_c, len(tensors))\n",
    "print('number of parameters: ', sum(p.numel() for p in Net_Actor.parameters() if p.requires_grad))\n",
    "last_item = torch.tensor([0,0,1]).float()\n",
    "output, x_bar = Net_Actor(tensors,last_item)\n",
    "print('\\n\\noutput')\n",
    "print(output)"
   ]
  },
  {
   "cell_type": "markdown",
   "metadata": {
    "collapsed": true
   },
   "source": [
    "Critic network. \n",
    "The critic network takes as input the probabilities of the actor network and the embeddings input (x_bar). \n",
    "These two are multiplied to obtain a weighted sum of the embedded inputs.\n",
    "Then, they are fed into a network with 2 layers. \n",
    "The first layer is dense with ReLU activation and the second one is a linear layer with single output (which is the expected reward). "
   ]
  },
  {
   "cell_type": "code",
   "execution_count": null,
   "metadata": {
    "collapsed": true
   },
   "outputs": [],
   "source": [
    "#class Critic(torch.nn.Module):\n",
    "#    \n",
    "#    def __init__(self, num_input_features, num_inbetween_features,len_batch):    \n",
    "#        \n",
    "#        super(Critic, self).__init__() # this is not really clear to me\n",
    "#        self.FirstLayer = torch.nn.Linear(num_input_features, num_inbetween_features)\n",
    "#        self.SecondLayer = torch.nn.Linear(num_inbetween_features*len_batch,  num_inbetween_features*len_batch)        \n",
    "#        self.SecondLayer_1 = torch.nn.Linear(num_inbetween_features*len_batch,  num_inbetween_features*len_batch)        \n",
    "#        self.SecondLayer_2 = torch.nn.Linear(num_inbetween_features*len_batch,  num_inbetween_features*len_batch)        \n",
    "#        self.LastLayer = torch.nn.Linear(num_inbetween_features*len_batch,  1)        \n",
    "#        torch.nn.init.xavier_normal_(self.FirstLayer.weight)\n",
    "#        torch.nn.init.xavier_normal_(self.SecondLayer.weight)\n",
    "#        torch.nn.init.xavier_normal_(self.SecondLayer_1.weight)\n",
    "#        torch.nn.init.xavier_normal_(self.SecondLayer_2.weight)\n",
    "#        torch.nn.init.xavier_normal_(self.LastLayer.weight)\n",
    "#        \n",
    "#    def forward(self, Outputs, Initial_Features):\n",
    "#        \n",
    "#        ReLU = torch.nn.ReLU()\n",
    "#        x_bar_critic = self.FirstLayer(Initial_Features)\n",
    "#        Outputs = torch.stack((Outputs), dim=0)\n",
    "#        OutputMeans = torch.mean(Outputs,0)        \n",
    "#        Initial_Features_average = []\n",
    "#        for i in range(len(x_bar_critic)):\n",
    "#            Initial_Features_average.append(x_bar_critic[i]*OutputMeans[i])\n",
    "#        Initial_Features_average = torch.cat((Initial_Features_average), dim=0)\n",
    "#        output = ReLU(Initial_Features_average)\n",
    "#        output = self.SecondLayer(output)\n",
    "#        output = ReLU(output)\n",
    "#        output = self.SecondLayer_1(output)\n",
    "#        output = ReLU(output)\n",
    "#        output = self.SecondLayer_2(output)\n",
    "#        output = ReLU(output)\n",
    "#        output = self.LastLayer(output)\n",
    "#        \n",
    "#        return output"
   ]
  },
  {
   "cell_type": "code",
   "execution_count": null,
   "metadata": {
    "collapsed": true
   },
   "outputs": [],
   "source": [
    "#num_inbetween_features = 32\n",
    "num_objs = 10\n",
    "#\n",
    "#Net_critic = Critic(num_input_features, num_inbetween_features, num_objs+1)\n",
    "#print('number of critic parameters: ', sum(p.numel() for p in Net_critic.parameters() if p.requires_grad)"
   ]
  },
  {
   "cell_type": "code",
   "execution_count": null,
   "metadata": {},
   "outputs": [],
   "source": [
    "Net_Actor = ActorNet(num_input_features, dim_kernel, num_embeddings, num_h, dim_W_a, dim_W_c, num_objs+1)\n",
    "    \n",
    "# define for how many different instances it should run, their size and the number of epochs\n",
    "num_epoch = 50\n",
    "# create your optimizers\n",
    "optimizer_actor = torch.optim.Adam(Net_Actor.parameters(), lr=0.01)\n",
    "Rewards = []\n",
    "Loss_actor = []\n",
    "Loss_critic = []\n",
    "# clipping the gradients\n",
    "#clip_value = 2\n",
    "#torch.nn.utils.clip_grad_norm_(Net_Actor.parameters(), clip_value)\n",
    "# fake instance\n",
    "Objects = GenerateANewInstance(num_objs)\n",
    "ObjectsFeatures = torch.tensor([[obj.Prize, obj.Weight] for obj in Objects])\n",
    "\n",
    "Outputs = []\n",
    "for e_counter in range(num_epoch):\n",
    "    optimizer_actor.zero_grad()   # zero the gradient buffers\n",
    "    total_reward = 0.0\n",
    "    total_weight = 0.0\n",
    "    sequence_probability = 1\n",
    "    Chosen = []\n",
    "    last_item = torch.tensor([0,0,1]).float()\n",
    "    while True:\n",
    "        #print('weight', total_weight)\n",
    "        output, x_bar = Net_Actor(ObjectsFeatures, last_item)\n",
    "        Outputs.append(output)\n",
    "        action_index = np.random.choice(range(num_objs+1),p=output.detach().numpy())\n",
    "        sequence_probability = sequence_probability*output[action_index]\n",
    "        #print('sequence probability', sequence_probability)\n",
    "        # perform action\n",
    "        #total_weight+=Objects[action_index].Weight\n",
    "        #total_reward+=Objects[action_index].Prize\n",
    "        Chosen.append(Objects[action_index])\n",
    "        last_item = torch.tensor([Objects[action_index].Weight,Objects[action_index].Prize,1-total_weight])\n",
    "        if action_index == 2:\n",
    "            total_reward = 5\n",
    "        else:\n",
    "            total_reward = 0\n",
    "        break\n",
    "    #print('sequence probability', sequence_probability)\n",
    "    #print('Outputs ', Outputs)\n",
    "    #stop\n",
    "    target_actor = torch.tensor([5]).float()\n",
    "    #target_actor.requires_grad = False\n",
    "    loss_actor = (target_actor - torch.tensor(total_reward))*torch.digamma(sequence_probability)\n",
    "    print('\\n')\n",
    "    print('target : ', (target_actor - torch.tensor(total_reward)))\n",
    "    print('digamma: ', torch.digamma(sequence_probability))\n",
    "    #stop\n",
    "    #loss_actor = loss_actor.mean()\n",
    "    # compute gradient \n",
    "    loss_actor.backward()\n",
    "    # gradient clipping\n",
    "    clip_value = 1\n",
    "    for p in Net_Actor.parameters():\n",
    "        p.register_hook(lambda grad: torch.clamp(grad, -clip_value, clip_value))\n",
    "    # apply gradient\n",
    "    optimizer_actor.step()\n",
    "    # info for plotting\n",
    "    Rewards.append(total_reward)     \n",
    "    Loss_actor.append(loss_actor.tolist())\n",
    "    \n",
    "print('Last 5 outputs ',Outputs[-5:-1])\n",
    "R = []\n",
    "A = []\n",
    "for i in range(len(Rewards)):\n",
    "    R.append(Rewards[i])\n",
    "    A.append(Loss_actor[i])\n",
    "print('with the fake instance you\\'re testing, ')\n",
    "print('Max reward = 5 ')\n",
    "plt.figure()\n",
    "plt.plot(R)\n",
    "plt.ylabel('Rewards')\n",
    "plt.figure()\n",
    "plt.plot(A)\n",
    "plt.ylabel('Actor loss')\n",
    "plt.figure()\n",
    "for i in range(len(Outputs[0])):\n",
    "    ObjectOutput = [o[i] for o in Outputs]\n",
    "    plt.plot(ObjectOutput, label='act_'+str(i))\n",
    "plt.ylabel('Outputs')\n",
    "plt.legend()"
   ]
  }
 ],
 "metadata": {
  "kernelspec": {
   "display_name": "Python 3",
   "language": "python",
   "name": "python3"
  },
  "language_info": {
   "codemirror_mode": {
    "name": "ipython",
    "version": 3
   },
   "file_extension": ".py",
   "mimetype": "text/x-python",
   "name": "python",
   "nbconvert_exporter": "python",
   "pygments_lexer": "ipython3",
   "version": "3.7.3"
  }
 },
 "nbformat": 4,
 "nbformat_minor": 2
}
